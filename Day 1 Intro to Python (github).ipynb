{
 "cells": [
  {
   "cell_type": "markdown",
   "metadata": {},
   "source": [
    "# Python\n",
    "Ο κύριος στόχος της είναι η αναγνωσιμότητα του κώδικά της. Η ευκολία χρήσης της και το συντακτικό της επιτρέπει στους προγραμματιστές να εκφράσουν έννοιες σε λιγότερες γραμμές κώδικα απ'ότι θα ήταν δυνατόν σε άλλες γλώσσες.\n",
    "\n",
    "Δεν απαιτεί τη δήλωση μεταβλητών και ανά πάσα στιγμή μπορούμε να εκχωρήσουμε μία τίμη σε οποιαδήποτε μεταβλητή και τύπο θελήσουμε.\n"
   ]
  },
  {
   "cell_type": "markdown",
   "metadata": {},
   "source": [
    "# Μαθηματικές Πράξεις\n",
    "Εκτός από τις βασικές μαθηματικές πράξεις, μπορούμε να χρησιμοποιήσουμε απευθείας δυνάμεις και υπόλοιπο διαίρεσεις με τη χρήση των συμβόλων ** και %"
   ]
  },
  {
   "cell_type": "code",
   "execution_count": null,
   "metadata": {},
   "outputs": [],
   "source": [
    "# πρόσθεση\n",
    "print(4 + 6)"
   ]
  },
  {
   "cell_type": "code",
   "execution_count": null,
   "metadata": {},
   "outputs": [],
   "source": [
    "# αφαίρεση\n",
    "print(10 - 8)"
   ]
  },
  {
   "cell_type": "code",
   "execution_count": null,
   "metadata": {},
   "outputs": [],
   "source": [
    "# πολλαπλασιασμός\n",
    "print(4 * 5)"
   ]
  },
  {
   "cell_type": "code",
   "execution_count": null,
   "metadata": {},
   "outputs": [],
   "source": [
    "# διαίρεση\n",
    "print(10 / 5)"
   ]
  },
  {
   "cell_type": "code",
   "execution_count": null,
   "metadata": {},
   "outputs": [],
   "source": [
    "# υπόλοιπο διαίρεσης\n",
    "print(10 % 8)"
   ]
  },
  {
   "cell_type": "code",
   "execution_count": null,
   "metadata": {},
   "outputs": [],
   "source": [
    "# δύναμη\n",
    "print(10 ** 2)"
   ]
  },
  {
   "cell_type": "code",
   "execution_count": null,
   "metadata": {},
   "outputs": [],
   "source": [
    "# αριθμητικές παραστάσεις\n",
    "print(10 * 2 + (3-1)** 4)"
   ]
  },
  {
   "cell_type": "markdown",
   "metadata": {},
   "source": [
    "# Μεταβλητές\n",
    "Για να χρησιμοποιήσουμε μια νέα μεταβλητή, αρκεί να γράψουμε το όνομά της, το σύμβολο \"=\" και την τιμή που θέλουμε να δώσουμε ανεξάρτητα από τον τύπο (αριθμός, κείμενο κτλ)\n",
    "\n",
    "Μπορούμε να κάνουμε τις παραπάνω πράξεις και με μεταβλητές. Ωστόσο, θα πρέπει να προσέξουμε τους τύπους που έχει η κάθε μία καθώς δε γίνεται αυτοματοποιημένος έλεγχος."
   ]
  },
  {
   "cell_type": "code",
   "execution_count": null,
   "metadata": {},
   "outputs": [],
   "source": [
    "year = 2018\n",
    "print(year)"
   ]
  },
  {
   "cell_type": "code",
   "execution_count": null,
   "metadata": {},
   "outputs": [],
   "source": [
    "print(year + 1)"
   ]
  },
  {
   "cell_type": "code",
   "execution_count": null,
   "metadata": {},
   "outputs": [],
   "source": [
    "print(year)"
   ]
  },
  {
   "cell_type": "markdown",
   "metadata": {},
   "source": [
    "Όπως βλέπουμε, η πράξεις και αλλαγές που μπορεί να γίνουν μέσα στη συνάρτηση print δεν είναι μόνιμες. Τυπώνοντας ξανά τη μεταβλητή year, συνεχίζει να έχει την παλιά τιμή που είχε. Αν όμως αντικαταστήσουμε τη μεταβλητή με νέα τιμή, η παλιά χάνεται για πάντα."
   ]
  },
  {
   "cell_type": "code",
   "execution_count": null,
   "metadata": {},
   "outputs": [],
   "source": [
    "year = year + 1\n",
    "print(year)"
   ]
  },
  {
   "cell_type": "markdown",
   "metadata": {},
   "source": [
    "## Είδη μεταβλητών\n",
    "Υπάρχουν πολλά είδη μεταβλητών που θα συναντήσουμε. Οι βασικές είναι integer, float, string και bool."
   ]
  },
  {
   "cell_type": "code",
   "execution_count": null,
   "metadata": {},
   "outputs": [],
   "source": [
    "print(type(year))"
   ]
  },
  {
   "cell_type": "code",
   "execution_count": null,
   "metadata": {},
   "outputs": [],
   "source": [
    "print(type(17.3))"
   ]
  },
  {
   "cell_type": "code",
   "execution_count": null,
   "metadata": {},
   "outputs": [],
   "source": [
    "year = 'δύο χιλιάδες δέκα οκτώ'\n",
    "print(year)\n",
    "print(type(year))"
   ]
  },
  {
   "cell_type": "code",
   "execution_count": null,
   "metadata": {},
   "outputs": [],
   "source": [
    "print(type(True))"
   ]
  },
  {
   "cell_type": "code",
   "execution_count": null,
   "metadata": {},
   "outputs": [],
   "source": [
    "h = 'Το έτος'\n",
    "w = 'είναι'\n",
    "print(h,w,year)"
   ]
  },
  {
   "cell_type": "markdown",
   "metadata": {},
   "source": [
    "Στη συνάρτηση print μπορούμε όπως είδαμε να δώσουμε παραπάνω από μία παράμετρο και να τυπωθεί στη σειρά με κενό ανάμεσα. Ωστόσο μπορούμε να έχουμε το ίδιο αποτέλεσμα με διαφορετικούς τρόπους."
   ]
  },
  {
   "cell_type": "code",
   "execution_count": null,
   "metadata": {},
   "outputs": [],
   "source": [
    "print('Το έτος είναι', year)"
   ]
  },
  {
   "cell_type": "code",
   "execution_count": null,
   "metadata": {},
   "outputs": [],
   "source": [
    "print('Το έτος είναι' + ' ' + year)"
   ]
  },
  {
   "cell_type": "markdown",
   "metadata": {},
   "source": [
    "Όπως είπαμε, πρέπει να προσέχουμε την τιμή που έχει η κάθε μεταβλητή. Μπορούμε να \"προσθέσουμε\" δύο ή περισσότερες μεταβλητές αν είναι κείμενο (string), αλλά δεν μπορούμε αν είναι κείμενο και αριθμός."
   ]
  },
  {
   "cell_type": "code",
   "execution_count": null,
   "metadata": {},
   "outputs": [],
   "source": [
    "year = 2018\n",
    "print('Το έτος είναι ' + year)"
   ]
  },
  {
   "cell_type": "markdown",
   "metadata": {},
   "source": [
    "Σε αυτήν την περίπτωση, χρησιμοποιούμε είτε τη συνάρτηση str() όπου μετατρέπει κάθε αριθμό σε κείμενο ή τη συνάρτηση print με ξεχωριστούς παραμέτρους"
   ]
  },
  {
   "cell_type": "code",
   "execution_count": null,
   "metadata": {},
   "outputs": [],
   "source": [
    "print('Το έτος είναι ' + str(year))\n",
    "print('Το έτος είναι', year)\n"
   ]
  },
  {
   "cell_type": "code",
   "execution_count": null,
   "metadata": {},
   "outputs": [],
   "source": [
    "print(\"Είμαι \" + str(30) + \" χρονών και γεννήθηκα το \" + str(1988))"
   ]
  },
  {
   "cell_type": "markdown",
   "metadata": {},
   "source": [
    "### int(), str(), float()"
   ]
  },
  {
   "cell_type": "code",
   "execution_count": null,
   "metadata": {},
   "outputs": [],
   "source": [
    "integer_number = 2018\n",
    "text = '2018'\n",
    "float_number = 2018.5\n",
    "\n",
    "print(type(integer_number))\n",
    "print(type(text))\n",
    "print(type(float_number))"
   ]
  },
  {
   "cell_type": "code",
   "execution_count": null,
   "metadata": {},
   "outputs": [],
   "source": [
    "print(int(text))\n",
    "print(float(text))\n",
    "print(str(float_number))"
   ]
  },
  {
   "cell_type": "markdown",
   "metadata": {},
   "source": [
    "### Boolean\n",
    "Μία από τις βασικές μεταβλητές είναι και η Bool. Οι τιμές που μπορεί να πάρει είναι True & False. Προσοχή, πάντα με κεφαλαίο το πρώτο γράμμα."
   ]
  },
  {
   "cell_type": "code",
   "execution_count": null,
   "metadata": {},
   "outputs": [],
   "source": [
    "a = True\n",
    "b = False\n",
    "\n",
    "print(a)\n",
    "print(type(a))"
   ]
  },
  {
   "cell_type": "code",
   "execution_count": null,
   "metadata": {},
   "outputs": [],
   "source": [
    "wrong_bool = true"
   ]
  },
  {
   "cell_type": "markdown",
   "metadata": {},
   "source": [
    "Μπορούμε να \"συγκρίνουμε\" μεταβλητές και το αποτέλεσμα που θα πάρουμε να είναι Boolean. Οι διαθέσιμοι \"operators\" είναι\n",
    "\n",
    "* == (ίσο)\n",
    "* != (διαφορετικό)\n",
    "* \\> (μεγαλύτερο)\n",
    "* \\>= (μεγαλύτερο ή ίσο)\n",
    "* < (μικρότερο)\n",
    "* <= (μικρότερο ή ίσο)\n",
    "* in (υπάρχει μέσα σε λίστα)"
   ]
  },
  {
   "cell_type": "code",
   "execution_count": null,
   "metadata": {},
   "outputs": [],
   "source": [
    "# ισότητα\n",
    "print(3 == 5)\n",
    "print(3 == 3)"
   ]
  },
  {
   "cell_type": "code",
   "execution_count": null,
   "metadata": {},
   "outputs": [],
   "source": [
    "# ανισότητα\n",
    "print(3 != 5)\n",
    "print(3 != 3)"
   ]
  },
  {
   "cell_type": "code",
   "execution_count": null,
   "metadata": {},
   "outputs": [],
   "source": [
    "# μεγαλύτερο\n",
    "print(3 > 5)\n",
    "print(5 > 3)\n",
    "print(5 >= 5)"
   ]
  },
  {
   "cell_type": "code",
   "execution_count": null,
   "metadata": {},
   "outputs": [],
   "source": [
    "# υπάρχει μέσα σε λίστα\n",
    "3 in [1,2,3,4,5,6]"
   ]
  },
  {
   "cell_type": "markdown",
   "metadata": {},
   "source": [
    "Για περισσότερες πληροφορίες σχετικά με τους πίνακες αληθείας δείτε εδώ https://en.wikipedia.org/wiki/Truth_table"
   ]
  },
  {
   "cell_type": "markdown",
   "metadata": {},
   "source": [
    "# Λίστες\n",
    "\n",
    "Οι λίστες της Python έχουν δυναμικό μέγεθος και τα αντικείμενά τους είναι οποιουδήποτε τύπου. Μία λίστα ξεκινάει και τελειώνει με τα σύμβολα [ και ] και τα αντικείμενα που έχει χωρίζονται με κόμμα."
   ]
  },
  {
   "cell_type": "code",
   "execution_count": null,
   "metadata": {},
   "outputs": [],
   "source": [
    "empty_list = []\n",
    "print(empty_list)"
   ]
  },
  {
   "cell_type": "code",
   "execution_count": null,
   "metadata": {},
   "outputs": [],
   "source": [
    "my_list = [2017, 2018, 'μπανάνα', 'data', True]\n",
    "print(my_list)"
   ]
  },
  {
   "cell_type": "code",
   "execution_count": null,
   "metadata": {},
   "outputs": [],
   "source": [
    "print(type(my_list))"
   ]
  },
  {
   "cell_type": "code",
   "execution_count": null,
   "metadata": {},
   "outputs": [],
   "source": [
    "year = 2018\n",
    "month = \"September\"\n",
    "day = \"Saturday\"\n",
    "\n",
    "today = [\"year\", year, \"month\", month, \"day\", day]\n",
    "print(today)"
   ]
  },
  {
   "cell_type": "markdown",
   "metadata": {},
   "source": [
    "Μπορούμε να βρούμε το μέγεθος της λίστας (πόσα αντικείμενα περιέχει) χρησιμοποιώντας τη συνάρτηση len(). "
   ]
  },
  {
   "cell_type": "code",
   "execution_count": null,
   "metadata": {},
   "outputs": [],
   "source": [
    "len(today)"
   ]
  },
  {
   "cell_type": "markdown",
   "metadata": {},
   "source": [
    "### Αρίθμηση λίστας\n",
    "\n",
    "Μπορούμε να επιστρέψουμε όποιο στοιχείο θέλουμε από την λίστα χρησιμοποιόντας τη θέση που βρίσκεται σε αυτήν. Προσοχή!!! Η αρίθμηση ξεκινάει από 0 και όχι από 1"
   ]
  },
  {
   "cell_type": "code",
   "execution_count": null,
   "metadata": {},
   "outputs": [],
   "source": [
    "print(today[0])\n",
    "print(today[1])"
   ]
  },
  {
   "cell_type": "markdown",
   "metadata": {},
   "source": [
    "Και αντίστροφα ;) Μπορούμε ανάποδα ξεκινώντας από το -1"
   ]
  },
  {
   "cell_type": "code",
   "execution_count": null,
   "metadata": {},
   "outputs": [],
   "source": [
    "print(today[-1])\n",
    "print(today[-4])"
   ]
  },
  {
   "cell_type": "markdown",
   "metadata": {},
   "source": [
    "### Προσθήκη και αφαίρεση στοιχείων από τη λίστα\n",
    "\n",
    "Μπορούμε να προσθέσουμε στο τέλος της λίστας ένα στοιχείο με την εντολή my_list.append(4) ή να αφαιρέσουμε ένα με my_list.remove('μπανάνα')"
   ]
  },
  {
   "cell_type": "code",
   "execution_count": null,
   "metadata": {},
   "outputs": [],
   "source": [
    "my_list.append(10)\n",
    "print(my_list)"
   ]
  },
  {
   "cell_type": "code",
   "execution_count": null,
   "metadata": {},
   "outputs": [],
   "source": [
    "my_list.remove(10)\n",
    "print(my_list)"
   ]
  },
  {
   "cell_type": "markdown",
   "metadata": {},
   "source": [
    "### Αντικατάσταση στοιχείων στη λίστα\n",
    "\n",
    "Αν θέλουμε να αντικαταστήσουμε ένα στοιχείο της λίστας με ένα καινούργιο, μπορούμε απλά να το δηλώσουμε όπως κάναμε στις μεταβλητές, χρησιμοποιώντας τη θέση που βρίσκεται"
   ]
  },
  {
   "cell_type": "code",
   "execution_count": null,
   "metadata": {},
   "outputs": [],
   "source": [
    "my_list[2] = \"μήλο\"\n",
    "print(my_list)"
   ]
  },
  {
   "cell_type": "markdown",
   "metadata": {},
   "source": [
    "### Ταξινόμιση\n",
    "Για ταξινόμιση μιας λίστας, μπορούμε να χρησιμοποιήσουμε τη συνάρτηση sorted()"
   ]
  },
  {
   "cell_type": "code",
   "execution_count": null,
   "metadata": {},
   "outputs": [],
   "source": [
    "numbers = [1,5,2,6,7,3,2,4,6,8,9,3,2,6,8,9,5,4,3,4,6,8,9,5,4]"
   ]
  },
  {
   "cell_type": "code",
   "execution_count": null,
   "metadata": {},
   "outputs": [],
   "source": [
    "# αύξουσα σειρά\n",
    "print(sorted(numbers))"
   ]
  },
  {
   "cell_type": "code",
   "execution_count": null,
   "metadata": {},
   "outputs": [],
   "source": [
    "# φθίνουσα σειρά\n",
    "print(sorted(numbers, reverse = True))"
   ]
  },
  {
   "cell_type": "markdown",
   "metadata": {},
   "source": [
    "### List methods\n",
    "index(), count() και reverse()"
   ]
  },
  {
   "cell_type": "code",
   "execution_count": null,
   "metadata": {},
   "outputs": [],
   "source": [
    "# επιστρέφει τη θέση του πρώτου στοιχείου με την τιμή που θέλουμε\n",
    "print(numbers.index(7))"
   ]
  },
  {
   "cell_type": "code",
   "execution_count": null,
   "metadata": {},
   "outputs": [],
   "source": [
    "# επιστρέφει το σύνολο των στοιχείων με την τιμή που θέλουμε\n",
    "print(numbers.count(5))"
   ]
  },
  {
   "cell_type": "code",
   "execution_count": null,
   "metadata": {},
   "outputs": [],
   "source": [
    "# επιστρέφει τη λίστα με αντίστροφη σειρά\n",
    "# προσοχή. Καλώντας τη μέθοδο reverse, η αρχική μας λίστα χάνεται\n",
    "numbers.reverse()\n",
    "print(numbers)"
   ]
  },
  {
   "cell_type": "markdown",
   "metadata": {},
   "source": [
    "### Άσκηση\n",
    "\n",
    "1. Δημιουργήστε 2 κενές λίστες. Η πρώτη να λέγεται cities και η δεύτερη populations\n",
    "2. Με χρήση της append προσθέστε 5 πόλεις της Ελλάδας\n",
    "3. Αφού βρείτε τον πληθυσμό των πόλεων από τη Wikipedia, συμπληρώστε και τη δεύτερη λίστα με την ίδια σειρά\n",
    "4. Τυπώστε τη δεύτερη πόλη μαζί με τον πληθυσμό της στη μορφή \"Καβάλα: 80000\""
   ]
  },
  {
   "cell_type": "code",
   "execution_count": null,
   "metadata": {},
   "outputs": [],
   "source": []
  },
  {
   "cell_type": "markdown",
   "metadata": {},
   "source": [
    "### Υπολίστες\n",
    "\n",
    "Μπορούμε να επιλέξουμε οποιοδήποτε κομμάτι της λίστας. Όχι μόνο ένα στοιχείο όπως προηγουμένως, αλλά πολλά μαζί."
   ]
  },
  {
   "cell_type": "code",
   "execution_count": null,
   "metadata": {},
   "outputs": [],
   "source": [
    "my_list = [2017, 2018, 'μπανάνα', 'data', True, 'true', 10, 10]\n",
    "print(my_list)\n",
    "my_list[0:3]"
   ]
  },
  {
   "cell_type": "markdown",
   "metadata": {},
   "source": [
    "#### Προσοχή!\n",
    "\n",
    "Το τελευταίο στοιχείο λείπει! Έχουν επιστραφεί τα στοιχεία στις θέσεις 0, 1 και 2."
   ]
  },
  {
   "cell_type": "code",
   "execution_count": null,
   "metadata": {},
   "outputs": [],
   "source": [
    "my_list[:3]"
   ]
  },
  {
   "cell_type": "code",
   "execution_count": null,
   "metadata": {},
   "outputs": [],
   "source": [
    "my_list[3:]"
   ]
  },
  {
   "cell_type": "markdown",
   "metadata": {},
   "source": [
    "### Λίστες μέσα σε λίστες"
   ]
  },
  {
   "cell_type": "code",
   "execution_count": null,
   "metadata": {},
   "outputs": [],
   "source": [
    "list_of_lists = [\n",
    "    [1,2,3],\n",
    "    [4,5,6],\n",
    "    [7,8,9]\n",
    "]\n",
    "print(list_of_lists)\n",
    "list_of_lists[0]"
   ]
  },
  {
   "cell_type": "code",
   "execution_count": null,
   "metadata": {},
   "outputs": [],
   "source": [
    "type(list_of_lists)"
   ]
  },
  {
   "cell_type": "code",
   "execution_count": null,
   "metadata": {},
   "outputs": [],
   "source": [
    "list_of_lists[0][1]"
   ]
  },
  {
   "cell_type": "markdown",
   "metadata": {},
   "source": [
    "### Split & Join"
   ]
  },
  {
   "cell_type": "code",
   "execution_count": null,
   "metadata": {},
   "outputs": [],
   "source": [
    "years = '2017,2018,2019,2020'\n",
    "years.split(\",\")"
   ]
  },
  {
   "cell_type": "code",
   "execution_count": null,
   "metadata": {},
   "outputs": [],
   "source": [
    "another_list = ['3','5','True']\n",
    "' '.join(another_list)\n"
   ]
  },
  {
   "cell_type": "markdown",
   "metadata": {},
   "source": [
    "### Άνοιγμα αρχείων\n",
    "\n",
    "Τα αρχεία τα ανοίγουμε με την εντολή open(file, \"r\"). Το \"r\" δηλώνει ότι πρόκειται μόνο για read. Αν είχε \"w\" θα είχαμε δικαιώματα για να γράψουμε και στο αρχείο νέα δεδομένα. Αφού ανοίξουμε το αρχείο, για να μπορούμε να το επεξεργαστούμε, πρέπει να το \"διαβάσουμε\""
   ]
  },
  {
   "cell_type": "code",
   "execution_count": null,
   "metadata": {},
   "outputs": [],
   "source": [
    "f = open(\"crime_rates.csv\", \"r\")\n",
    "data = f.read()\n",
    "print(data)"
   ]
  },
  {
   "cell_type": "markdown",
   "metadata": {},
   "source": [
    "### New line\n",
    "Στην Python δηλώνουμε νέα γραμμή στο κείμενο με τους χαρακτήρες \\n . Προσοχή. Οι χαρακτήρες αυτοί δε θα τυπωθούν όταν καλέσουμε την print"
   ]
  },
  {
   "cell_type": "code",
   "execution_count": null,
   "metadata": {},
   "outputs": [],
   "source": [
    "print('a \\nb')"
   ]
  },
  {
   "cell_type": "code",
   "execution_count": null,
   "metadata": {},
   "outputs": [],
   "source": [
    "rows = data.split('\\n')\n",
    "print(rows[0:5])"
   ]
  },
  {
   "cell_type": "markdown",
   "metadata": {},
   "source": [
    "### For Loop"
   ]
  },
  {
   "cell_type": "code",
   "execution_count": null,
   "metadata": {},
   "outputs": [],
   "source": [
    "ten_rows = rows[0:10]\n",
    "for row in ten_rows:\n",
    "    print(row)"
   ]
  },
  {
   "cell_type": "markdown",
   "metadata": {},
   "source": [
    "### Range\n",
    "\n",
    "Με την εντολή range μπορώ να έχω μία λίστα αριθμών με το εύρος και βήμα που ορίζω εγώ"
   ]
  },
  {
   "cell_type": "code",
   "execution_count": null,
   "metadata": {},
   "outputs": [],
   "source": [
    "for i in range(10):\n",
    "    print(i)"
   ]
  },
  {
   "cell_type": "code",
   "execution_count": null,
   "metadata": {},
   "outputs": [],
   "source": [
    "for j in range(5,10):\n",
    "    print(j,end=',')"
   ]
  },
  {
   "cell_type": "code",
   "execution_count": null,
   "metadata": {},
   "outputs": [],
   "source": [
    "for k in range(0,10,2):\n",
    "    print(k,end=',')"
   ]
  },
  {
   "cell_type": "markdown",
   "metadata": {},
   "source": [
    "\n",
    "\n",
    "### Άσκηση\n",
    "\n",
    "Να βρεθεί ο 15ος αριθμός Fibonacci αν γνωρίζετε ότι ο 1ος και 2ος είναι ίσος με 1 και κάθε επόμενος προκύπτει από το άθροισμα των δύο προηγούμενων"
   ]
  },
  {
   "cell_type": "code",
   "execution_count": null,
   "metadata": {},
   "outputs": [],
   "source": [
    "#λύση της άσκησης"
   ]
  },
  {
   "cell_type": "markdown",
   "metadata": {},
   "source": [
    "### Και άλλες λίστες..."
   ]
  },
  {
   "cell_type": "code",
   "execution_count": null,
   "metadata": {},
   "outputs": [],
   "source": [
    "crimes = []\n",
    "for row in rows:\n",
    "    split_list = row.split(',')\n",
    "    crimes.append(split_list)\n",
    "print(crimes[:5])"
   ]
  },
  {
   "cell_type": "markdown",
   "metadata": {},
   "source": [
    "Η υπολίστα με την πόλη Atlanta είναι στη θέση 4. Οπότε αν θέλουμε να τυπώσουμε την τιμή 1379, πρέπει πρώτα να πάρουμε την υπολίστα και μετά το δεύτερο στοιχείο από αυτήν."
   ]
  },
  {
   "cell_type": "code",
   "execution_count": null,
   "metadata": {},
   "outputs": [],
   "source": [
    "print(crimes[4][0])\n",
    "print(crimes[4][1])"
   ]
  },
  {
   "cell_type": "code",
   "execution_count": null,
   "metadata": {},
   "outputs": [],
   "source": [
    "int(crimes[4][1]) > int(crimes[3][1])"
   ]
  },
  {
   "cell_type": "markdown",
   "metadata": {},
   "source": [
    "### If statements\n",
    "\n",
    "Όταν θέλω να συγκρίνω δύο μεταβλητές, χρησιμοποιώ την If, else"
   ]
  },
  {
   "cell_type": "code",
   "execution_count": null,
   "metadata": {},
   "outputs": [],
   "source": [
    "my_favourite_fruit = \"apple\"\n",
    "\n",
    "if my_favourite_fruit == \"orange\":\n",
    "    print('You are lucky')"
   ]
  },
  {
   "cell_type": "code",
   "execution_count": null,
   "metadata": {},
   "outputs": [],
   "source": [
    "my_favourite_fruit = \"apple\"\n",
    "\n",
    "if my_favourite_fruit == \"orange\":\n",
    "    print('You are lucky')\n",
    "else:\n",
    "    print('Damn...')"
   ]
  },
  {
   "cell_type": "code",
   "execution_count": null,
   "metadata": {},
   "outputs": [],
   "source": [
    "grade = 65\n",
    "if grade > 90:\n",
    "    print('Well done')\n",
    "elif grade > 80:\n",
    "    print('Μπορείς και καλύτερα')\n",
    "elif grade > 70:\n",
    "    print('Θες βελτίωση')\n",
    "else:\n",
    "    print('Δυστυχώς ξανά προσπάθησε')"
   ]
  },
  {
   "cell_type": "markdown",
   "metadata": {},
   "source": [
    "### Άσκηση\n",
    "\n",
    "Να βρεθεί η πόλη με την μεγαλύτερη εγκληματικότητα. Προσοχή στους τύπους μεταβλητών!"
   ]
  },
  {
   "cell_type": "code",
   "execution_count": null,
   "metadata": {},
   "outputs": [],
   "source": []
  },
  {
   "cell_type": "markdown",
   "metadata": {},
   "source": [
    "### Άσκηση\n",
    "\n",
    "1. Να βρεθεί dataset με όλες τις πόλεις και τον πληθυσμό τους\n",
    "2. Να βρεθεί η πόλη με τον μικρότερο πληθυσμό"
   ]
  },
  {
   "cell_type": "code",
   "execution_count": null,
   "metadata": {},
   "outputs": [],
   "source": []
  },
  {
   "cell_type": "markdown",
   "metadata": {},
   "source": [
    "## Πικρή Αλήθεια\n",
    "\n",
    "Το μεγαλύτερο ποσοστό των dataset περιέχουν λάθη που πρέπει εμείς να βρούμε και να αποφασίσουμε τι θα τα κάνουμε :("
   ]
  },
  {
   "cell_type": "markdown",
   "metadata": {},
   "source": [
    "## Λεξικά\n",
    "\n",
    "Μια άλλη μορφή δεδομένων είναι τα Λεξικά (Dictionaries) και χρησιμοποιούνται για να βρίσκουμε εύκολα ένα αντικείμενο με βάση κάποιο κλειδί"
   ]
  },
  {
   "cell_type": "code",
   "execution_count": null,
   "metadata": {},
   "outputs": [],
   "source": [
    "dictionary = {}\n",
    "dictionary[1] = 'one'\n",
    "dictionary['one'] = 1\n",
    "dictionary\n",
    "dictionary['a_list'] = [1,2,3,4]\n",
    "dictionary['a_boolean'] = True\n",
    "dictionary['a_number'] = 5\n",
    "print(dictionary)\n",
    "print(dictionary['a_boolean'])\n"
   ]
  },
  {
   "cell_type": "code",
   "execution_count": null,
   "metadata": {},
   "outputs": [],
   "source": [
    "dictionary['a_number']"
   ]
  },
  {
   "cell_type": "code",
   "execution_count": null,
   "metadata": {},
   "outputs": [],
   "source": [
    "print(dictionary.keys())"
   ]
  },
  {
   "cell_type": "code",
   "execution_count": 1,
   "metadata": {},
   "outputs": [
    {
     "name": "stdout",
     "output_type": "stream",
     "text": [
      "{'Albuquerque': 749, 'Anaheim': 371, 'Anchorage': 828, 'Arlington': 503, 'Atlanta': 1379, 'Aurora': 425, 'Austin': 408, 'Bakersfield': 542, 'Baltimore': 1405, 'Boston': 835, 'Buffalo': 1288, 'Charlotte-Mecklenburg': 647, 'Cincinnati': 974, 'Cleveland': 1383, 'Colorado Springs': 455, 'Corpus Christi': 658, 'Dallas': 675, 'Denver': 615, 'Detroit': 2122, 'El Paso': 423, 'Fort Wayne': 362, 'Fort Worth': 587, 'Fresno': 543, 'Greensboro': 563, 'Henderson': 168, 'Houston': 992, 'Indianapolis': 1185, 'Jacksonville': 617, 'Jersey City': 734, 'Kansas City': 1263, 'Las Vegas': 784, 'Lexington': 352, 'Lincoln': 397, 'Long Beach': 575, 'Los Angeles': 481, 'Louisville Metro': 598, 'Memphis': 1750, 'Mesa': 399, 'Miami': 1172, 'Milwaukee': 1294, 'Minneapolis': 992, 'Mobile': 522, 'Nashville': 1216, 'New Orleans': 815, 'New York': 639, 'Newark': 1154, 'Oakland': 1993, 'Oklahoma City': 919, 'Omaha': 594, 'Philadelphia': 1160, 'Phoenix': 636, 'Pittsburgh': 752, 'Plano': 130, 'Portland': 517, 'Raleigh': 423, 'Riverside': 443, 'Sacramento': 738, 'San Antonio': 503, 'San Diego': 413, 'San Francisco': 704, 'San Jose': 363, 'Santa Ana': 401, 'Seattle': 597, 'St. Louis': 1776, 'St. Paul': 722, 'Stockton': 1548, 'Tampa': 616, 'Toledo': 1171, 'Tucson': 724, 'Tulsa': 990, 'Virginia Beach': 169, 'Washington': 1177, 'Wichita': 742}\n"
     ]
    }
   ],
   "source": [
    "f = open(\"crime_rates.csv\", \"r\")\n",
    "data = f.read().split('\\n')\n",
    "cities = {}\n",
    "for row in data:\n",
    "    city = row.split(',')\n",
    "    cities[city[0]] = int(city[1])\n",
    "\n",
    "print(cities)"
   ]
  },
  {
   "cell_type": "code",
   "execution_count": null,
   "metadata": {},
   "outputs": [],
   "source": [
    "cities['Thessaloniki'] = 100"
   ]
  },
  {
   "cell_type": "code",
   "execution_count": 2,
   "metadata": {},
   "outputs": [
    {
     "data": {
      "text/plain": [
       "{'Albuquerque': 749,\n",
       " 'Anaheim': 371,\n",
       " 'Anchorage': 828,\n",
       " 'Arlington': 503,\n",
       " 'Atlanta': 1379,\n",
       " 'Aurora': 425,\n",
       " 'Austin': 408,\n",
       " 'Bakersfield': 542,\n",
       " 'Baltimore': 1405,\n",
       " 'Boston': 835,\n",
       " 'Buffalo': 1288,\n",
       " 'Charlotte-Mecklenburg': 647,\n",
       " 'Cincinnati': 974,\n",
       " 'Cleveland': 1383,\n",
       " 'Colorado Springs': 455,\n",
       " 'Corpus Christi': 658,\n",
       " 'Dallas': 675,\n",
       " 'Denver': 615,\n",
       " 'Detroit': 2122,\n",
       " 'El Paso': 423,\n",
       " 'Fort Wayne': 362,\n",
       " 'Fort Worth': 587,\n",
       " 'Fresno': 543,\n",
       " 'Greensboro': 563,\n",
       " 'Henderson': 168,\n",
       " 'Houston': 992,\n",
       " 'Indianapolis': 1185,\n",
       " 'Jacksonville': 617,\n",
       " 'Jersey City': 734,\n",
       " 'Kansas City': 1263,\n",
       " 'Las Vegas': 784,\n",
       " 'Lexington': 352,\n",
       " 'Lincoln': 397,\n",
       " 'Long Beach': 575,\n",
       " 'Los Angeles': 481,\n",
       " 'Louisville Metro': 598,\n",
       " 'Memphis': 1750,\n",
       " 'Mesa': 399,\n",
       " 'Miami': 1172,\n",
       " 'Milwaukee': 1294,\n",
       " 'Minneapolis': 992,\n",
       " 'Mobile': 522,\n",
       " 'Nashville': 1216,\n",
       " 'New Orleans': 815,\n",
       " 'New York': 639,\n",
       " 'Newark': 1154,\n",
       " 'Oakland': 1993,\n",
       " 'Oklahoma City': 919,\n",
       " 'Omaha': 594,\n",
       " 'Philadelphia': 1160,\n",
       " 'Phoenix': 636,\n",
       " 'Pittsburgh': 752,\n",
       " 'Plano': 130,\n",
       " 'Portland': 517,\n",
       " 'Raleigh': 423,\n",
       " 'Riverside': 443,\n",
       " 'Sacramento': 738,\n",
       " 'San Antonio': 503,\n",
       " 'San Diego': 413,\n",
       " 'San Francisco': 704,\n",
       " 'San Jose': 363,\n",
       " 'Santa Ana': 401,\n",
       " 'Seattle': 597,\n",
       " 'St. Louis': 1776,\n",
       " 'St. Paul': 722,\n",
       " 'Stockton': 1548,\n",
       " 'Tampa': 616,\n",
       " 'Toledo': 1171,\n",
       " 'Tucson': 724,\n",
       " 'Tulsa': 990,\n",
       " 'Virginia Beach': 169,\n",
       " 'Washington': 1177,\n",
       " 'Wichita': 742}"
      ]
     },
     "execution_count": 2,
     "metadata": {},
     "output_type": "execute_result"
    }
   ],
   "source": [
    "cities"
   ]
  },
  {
   "cell_type": "markdown",
   "metadata": {},
   "source": [
    "### Αναζήτηση σε λεξικά\n",
    "Για να δούμε αν υπάρχει κάποιο κλειδί μέσα στο λεξικό αρκεί να χρησιμοποιήσουμε τον operator in"
   ]
  },
  {
   "cell_type": "code",
   "execution_count": null,
   "metadata": {},
   "outputs": [],
   "source": [
    "'Oklahoma City' in cities"
   ]
  },
  {
   "cell_type": "code",
   "execution_count": null,
   "metadata": {},
   "outputs": [],
   "source": [
    "'Athens' in cities"
   ]
  },
  {
   "cell_type": "markdown",
   "metadata": {},
   "source": [
    "### Διαγραφή κλειδιού\n",
    "Για τη διαγραφή ενός κλειδιού αρκεί να καλέσουμε τη συνάρτηση del() στο λεξικό και το κλειδί που θέλουμε να διαγράψουμε"
   ]
  },
  {
   "cell_type": "code",
   "execution_count": null,
   "metadata": {},
   "outputs": [],
   "source": [
    "del(cities['Thessaloniki'])"
   ]
  },
  {
   "cell_type": "markdown",
   "metadata": {},
   "source": [
    "### Ταξινόμιση λεξικών\n",
    "Για να κάνουμε ταξινόμιση, πρέπει πρώτα να μετατρέψουμε το λεξικό σε λίστα με τη χρήση της μεθόδου items(). Μετά να δηλώσουμε στην παράμετρο key ότι θέλουμε να γίνει με βάση την τιμή και όχι το κλειδή με χρήση της lamda\n",
    "sorted(cities.items(), key=lambda x:x[1], reverse=True)"
   ]
  },
  {
   "cell_type": "code",
   "execution_count": null,
   "metadata": {},
   "outputs": [],
   "source": [
    "sorted(cities.items(), key=lambda x:x[1], reverse=True)"
   ]
  },
  {
   "cell_type": "markdown",
   "metadata": {},
   "source": [
    "### Λεξικά μέσα σε λεξικά"
   ]
  },
  {
   "cell_type": "code",
   "execution_count": null,
   "metadata": {},
   "outputs": [],
   "source": [
    "countries = { 'Greece': { 'capital':'Athens', 'population':10750000 },\n",
    "           'Sweden': { 'capital':'Stockholm', 'population':9903000000 },\n",
    "           'Denmark': { 'capital':'Copenhagen', 'population':5731000000 }}"
   ]
  },
  {
   "cell_type": "code",
   "execution_count": null,
   "metadata": {},
   "outputs": [],
   "source": [
    "print(countries)"
   ]
  },
  {
   "cell_type": "code",
   "execution_count": null,
   "metadata": {},
   "outputs": [],
   "source": [
    "print(countries['Greece'])"
   ]
  },
  {
   "cell_type": "code",
   "execution_count": null,
   "metadata": {},
   "outputs": [],
   "source": [
    "print(countries['Greece']['population'])"
   ]
  },
  {
   "cell_type": "markdown",
   "metadata": {},
   "source": [
    "## Συναρτήσεις\n",
    "\n",
    "Πάντα προσπαθούμε να σπάσουμε τον κώδικά μας σε συναρτήσεις. Όσο μεγαλώνει το project, θα γίνεται όλο και πιο δύσκολη η συντήρηση και οι αλλαγές που θα θέλουμε να κάνουμε."
   ]
  },
  {
   "cell_type": "code",
   "execution_count": null,
   "metadata": {},
   "outputs": [],
   "source": [
    "def my_function(a, b = 5):\n",
    "    if a > 0:\n",
    "        c = a + b\n",
    "    else:\n",
    "        c = -3 * a + b\n",
    "    return c\n",
    "\n",
    "r1 = my_function(5)\n",
    "r2 = my_function(-5)\n",
    "r3 = my_function(5,10)\n",
    "print(r1, r2, r3)"
   ]
  },
  {
   "cell_type": "markdown",
   "metadata": {},
   "source": [
    "### Άσκηση\n",
    "\n",
    "Να γραφτεί συνάρτηση που θα δέχεται λίστα και θα επιστρέφει το μέγιστο. Για ευκολία, θεωρούμε ότι η λίστα θα περιέχει μόνο αριθμούς."
   ]
  },
  {
   "cell_type": "code",
   "execution_count": null,
   "metadata": {},
   "outputs": [],
   "source": []
  },
  {
   "cell_type": "code",
   "execution_count": null,
   "metadata": {},
   "outputs": [],
   "source": [
    "def my_print():\n",
    "    print('Καλημέρα')\n",
    "\n",
    "my_print()"
   ]
  },
  {
   "cell_type": "code",
   "execution_count": null,
   "metadata": {},
   "outputs": [],
   "source": [
    "def my_message(message=\"Καλημέρα\"):\n",
    "    print(message)\n",
    "my_message()"
   ]
  },
  {
   "cell_type": "markdown",
   "metadata": {},
   "source": [
    "### Βιβλιοθήκες\n",
    "Για να χρησιμοποιήσουμε κάποια βιβλιοθήκη της Python, αρκεί να την εισάγουμε με την εντολή import στην αρχή του κώδικα"
   ]
  },
  {
   "cell_type": "code",
   "execution_count": null,
   "metadata": {},
   "outputs": [],
   "source": [
    "import math\n",
    "print(math.pi)"
   ]
  },
  {
   "cell_type": "code",
   "execution_count": null,
   "metadata": {},
   "outputs": [],
   "source": [
    "print(math.pow(3,2))"
   ]
  },
  {
   "cell_type": "markdown",
   "metadata": {},
   "source": [
    "Υπάρχει η δυνατότητα να εισάγουμε μέρος της βιβλιοθήκης και όχι ολόκληρη"
   ]
  },
  {
   "cell_type": "code",
   "execution_count": null,
   "metadata": {},
   "outputs": [],
   "source": [
    "from math import pow\n",
    "print(pow(3,2))"
   ]
  },
  {
   "cell_type": "markdown",
   "metadata": {},
   "source": [
    "Ή να δώσουμε nickname στη βιβλιοθήκη βάζοντας στο τέλος το as και το όνομα που θέλουμε"
   ]
  },
  {
   "cell_type": "code",
   "execution_count": null,
   "metadata": {},
   "outputs": [],
   "source": [
    "import math as mathimatika\n",
    "print(mathimatika.pi)"
   ]
  },
  {
   "cell_type": "code",
   "execution_count": null,
   "metadata": {},
   "outputs": [],
   "source": []
  }
 ],
 "metadata": {
  "kernelspec": {
   "display_name": "Python 3",
   "language": "python",
   "name": "python3"
  },
  "language_info": {
   "codemirror_mode": {
    "name": "ipython",
    "version": 3
   },
   "file_extension": ".py",
   "mimetype": "text/x-python",
   "name": "python",
   "nbconvert_exporter": "python",
   "pygments_lexer": "ipython3",
   "version": "3.7.1"
  }
 },
 "nbformat": 4,
 "nbformat_minor": 2
}
