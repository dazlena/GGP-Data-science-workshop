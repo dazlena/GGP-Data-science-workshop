{
 "cells": [
  {
   "cell_type": "markdown",
   "metadata": {},
   "source": [
    "## Γιατί λίστες\n",
    "\n",
    "1. Μπορούν να περιέχουν διαφορετικά είδη δεδομένων (αριθμούς, χαρακτήρες κτλ)\n",
    "2. Το μέγεθός τους είναι δυναμικό\n",
    "\n",
    "## Γιατί όχι λίστες\n",
    "\n",
    "1. Λόγω των παραπάνω, καταναλώνουν πολύ μνήμη\n",
    "2. Δεν μπορούν να αντεπεξέλθουν σε μεγάλα σύνολα δεδομένων"
   ]
  },
  {
   "cell_type": "code",
   "execution_count": 1,
   "metadata": {},
   "outputs": [
    {
     "name": "stdout",
     "output_type": "stream",
     "text": [
      "[10 20 30]\n"
     ]
    }
   ],
   "source": [
    "import numpy as np\n",
    "vector = np.array([10, 20, 30])\n",
    "print(vector)"
   ]
  },
  {
   "cell_type": "markdown",
   "metadata": {},
   "source": [
    "Χωρίς την print() η μορφή είναι ως"
   ]
  },
  {
   "cell_type": "code",
   "execution_count": 2,
   "metadata": {},
   "outputs": [
    {
     "data": {
      "text/plain": [
       "array([10, 20, 30])"
      ]
     },
     "execution_count": 2,
     "metadata": {},
     "output_type": "execute_result"
    }
   ],
   "source": [
    "vector"
   ]
  },
  {
   "cell_type": "code",
   "execution_count": 3,
   "metadata": {},
   "outputs": [
    {
     "data": {
      "text/plain": [
       "array([[ 5, 10, 15],\n",
       "       [20, 25, 30],\n",
       "       [35, 40, 45]])"
      ]
     },
     "execution_count": 3,
     "metadata": {},
     "output_type": "execute_result"
    }
   ],
   "source": [
    "matrix = np.array([[5, 10, 15], [20, 25, 30], [35, 40, 45]])\n",
    "matrix"
   ]
  },
  {
   "cell_type": "markdown",
   "metadata": {},
   "source": [
    "### shape\n",
    "\n",
    "Μπορούμε εύκολα να βρούμε το μέγεθος ενός ndarray με τη χρήση της shape"
   ]
  },
  {
   "cell_type": "code",
   "execution_count": 4,
   "metadata": {},
   "outputs": [
    {
     "data": {
      "text/plain": [
       "(3,)"
      ]
     },
     "execution_count": 4,
     "metadata": {},
     "output_type": "execute_result"
    }
   ],
   "source": [
    "vector.shape"
   ]
  },
  {
   "cell_type": "code",
   "execution_count": 5,
   "metadata": {},
   "outputs": [
    {
     "data": {
      "text/plain": [
       "(3, 3)"
      ]
     },
     "execution_count": 5,
     "metadata": {},
     "output_type": "execute_result"
    }
   ],
   "source": [
    "matrix.shape"
   ]
  },
  {
   "cell_type": "code",
   "execution_count": 6,
   "metadata": {},
   "outputs": [],
   "source": [
    "births = np.genfromtxt(\"births.csv\", delimiter=\",\")"
   ]
  },
  {
   "cell_type": "code",
   "execution_count": 7,
   "metadata": {},
   "outputs": [
    {
     "name": "stdout",
     "output_type": "stream",
     "text": [
      "[[             nan              nan              nan              nan\n",
      "               nan]\n",
      " [  1.99400000e+03   1.00000000e+00   1.00000000e+00   6.00000000e+00\n",
      "    8.09600000e+03]\n",
      " [  1.99400000e+03   1.00000000e+00   2.00000000e+00   7.00000000e+00\n",
      "    7.77200000e+03]\n",
      " ..., \n",
      " [  2.00300000e+03   1.20000000e+01   2.90000000e+01   1.00000000e+00\n",
      "    1.28230000e+04]\n",
      " [  2.00300000e+03   1.20000000e+01   3.00000000e+01   2.00000000e+00\n",
      "    1.44380000e+04]\n",
      " [  2.00300000e+03   1.20000000e+01   3.10000000e+01   3.00000000e+00\n",
      "    1.23740000e+04]]\n"
     ]
    }
   ],
   "source": [
    "print(births)"
   ]
  },
  {
   "cell_type": "code",
   "execution_count": 8,
   "metadata": {},
   "outputs": [
    {
     "name": "stdout",
     "output_type": "stream",
     "text": [
      "[[ 1994     1     1     6  8096]\n",
      " [ 1994     1     2     7  7772]\n",
      " [ 1994     1     3     1 10142]\n",
      " ..., \n",
      " [ 2003    12    29     1 12823]\n",
      " [ 2003    12    30     2 14438]\n",
      " [ 2003    12    31     3 12374]]\n"
     ]
    }
   ],
   "source": [
    "births = np.genfromtxt(\"births.csv\", delimiter=\",\", skip_header=1, dtype =np.int16)\n",
    "print(births)"
   ]
  },
  {
   "cell_type": "code",
   "execution_count": 9,
   "metadata": {},
   "outputs": [
    {
     "data": {
      "text/plain": [
       "6"
      ]
     },
     "execution_count": 9,
     "metadata": {},
     "output_type": "execute_result"
    }
   ],
   "source": [
    "# 0 γραμμή, 3η στήλη\n",
    "births[0,3]"
   ]
  },
  {
   "cell_type": "code",
   "execution_count": 10,
   "metadata": {},
   "outputs": [
    {
     "data": {
      "text/plain": [
       "array([6, 7, 1, ..., 1, 2, 3], dtype=int16)"
      ]
     },
     "execution_count": 10,
     "metadata": {},
     "output_type": "execute_result"
    }
   ],
   "source": [
    "# όλες οι γραμμές, 3η στήλη\n",
    "births[:,3]"
   ]
  },
  {
   "cell_type": "code",
   "execution_count": 11,
   "metadata": {},
   "outputs": [
    {
     "data": {
      "text/plain": [
       "array([ 1994,     1,     3,     1, 10142], dtype=int16)"
      ]
     },
     "execution_count": 11,
     "metadata": {},
     "output_type": "execute_result"
    }
   ],
   "source": [
    "# 2η γραμμή, όλες οι στήλες\n",
    "births[2,:]"
   ]
  },
  {
   "cell_type": "code",
   "execution_count": 12,
   "metadata": {},
   "outputs": [
    {
     "name": "stdout",
     "output_type": "stream",
     "text": [
      "[[1994    1]\n",
      " [1994    1]\n",
      " [1994    1]\n",
      " ..., \n",
      " [2003   12]\n",
      " [2003   12]\n",
      " [2003   12]]\n"
     ]
    }
   ],
   "source": [
    "first_two_columns = births[:,0:2]\n",
    "print(first_two_columns)"
   ]
  },
  {
   "cell_type": "code",
   "execution_count": 13,
   "metadata": {},
   "outputs": [
    {
     "name": "stdout",
     "output_type": "stream",
     "text": [
      "[[ 1994     1     1     6  8096]\n",
      " [ 1994     1     2     7  7772]\n",
      " [ 1994     1     3     1 10142]\n",
      " [ 1994     1     4     2 11248]\n",
      " [ 1994     1     5     3 11053]\n",
      " [ 1994     1     6     4 11406]\n",
      " [ 1994     1     7     5 11251]\n",
      " [ 1994     1     8     6  8653]\n",
      " [ 1994     1     9     7  7910]\n",
      " [ 1994     1    10     1 10498]]\n"
     ]
    }
   ],
   "source": [
    "first_ten_rows = births[0:10,:]\n",
    "print(first_ten_rows)"
   ]
  },
  {
   "cell_type": "markdown",
   "metadata": {},
   "source": [
    "## Αντικατάσταση τιμών"
   ]
  },
  {
   "cell_type": "code",
   "execution_count": 14,
   "metadata": {},
   "outputs": [
    {
     "data": {
      "text/plain": [
       "array([[ 5, 10, 15],\n",
       "       [20, 25, 30],\n",
       "       [35, 40, 45]])"
      ]
     },
     "execution_count": 14,
     "metadata": {},
     "output_type": "execute_result"
    }
   ],
   "source": [
    "matrix = np.array([[5, 10, 15], [20, 25, 30], [35, 40, 45] ])\n",
    "matrix"
   ]
  },
  {
   "cell_type": "code",
   "execution_count": 15,
   "metadata": {},
   "outputs": [
    {
     "data": {
      "text/plain": [
       "array([[10, 10, 10],\n",
       "       [20, 25, 30],\n",
       "       [35, 40, 45]])"
      ]
     },
     "execution_count": 15,
     "metadata": {},
     "output_type": "execute_result"
    }
   ],
   "source": [
    "matrix[0,:] = 10\n",
    "matrix"
   ]
  },
  {
   "cell_type": "markdown",
   "metadata": {},
   "source": [
    "### Αναζήτηση  σε ndarray"
   ]
  },
  {
   "cell_type": "code",
   "execution_count": 16,
   "metadata": {},
   "outputs": [
    {
     "name": "stdout",
     "output_type": "stream",
     "text": [
      "[False False  True  True]\n"
     ]
    }
   ],
   "source": [
    "vector = np.array([5, 10, 15, 20])\n",
    "greater_to_ten = (vector > 10)\n",
    "\n",
    "print(greater_to_ten)"
   ]
  },
  {
   "cell_type": "code",
   "execution_count": 17,
   "metadata": {},
   "outputs": [
    {
     "data": {
      "text/plain": [
       "array([15, 20])"
      ]
     },
     "execution_count": 17,
     "metadata": {},
     "output_type": "execute_result"
    }
   ],
   "source": [
    "vector[greater_to_ten]"
   ]
  },
  {
   "cell_type": "code",
   "execution_count": 18,
   "metadata": {},
   "outputs": [
    {
     "data": {
      "text/plain": [
       "array([ True,  True,  True, ..., False, False, False], dtype=bool)"
      ]
     },
     "execution_count": 18,
     "metadata": {},
     "output_type": "execute_result"
    }
   ],
   "source": [
    "year_is_1994 = births[:,0] == 1994\n",
    "year_is_1994"
   ]
  },
  {
   "cell_type": "code",
   "execution_count": 19,
   "metadata": {},
   "outputs": [
    {
     "name": "stdout",
     "output_type": "stream",
     "text": [
      "[[ 1994     1     1     6  8096]\n",
      " [ 1994     1     2     7  7772]\n",
      " [ 1994     1     3     1 10142]\n",
      " ..., \n",
      " [ 1994    12    29     4 12189]\n",
      " [ 1994    12    30     5 12051]\n",
      " [ 1994    12    31     6  8809]]\n"
     ]
    }
   ],
   "source": [
    "year_1994 = births[year_is_1994,:]\n",
    "print(year_1994)"
   ]
  },
  {
   "cell_type": "code",
   "execution_count": 20,
   "metadata": {},
   "outputs": [
    {
     "name": "stdout",
     "output_type": "stream",
     "text": [
      "[[ 1994    10     1     6  9351]\n",
      " [ 1995    10     1     7  8545]\n",
      " [ 1996    10     1     2 12851]\n",
      " [ 1997    10     1     3 12161]\n",
      " [ 1998    10     1     4 12410]\n",
      " [ 1999    10     1     5 12544]\n",
      " [ 2000    10     1     7  8279]\n",
      " [ 2001    10     1     1 12109]\n",
      " [ 2002    10     1     2 13296]\n",
      " [ 2003    10     1     3 13138]]\n"
     ]
    }
   ],
   "source": [
    "month_is_10_first = (births[:,1] == 10) & (births[:,2] == 1)\n",
    "month_10 = births[month_is_10_first,:]\n",
    "print(month_10)"
   ]
  },
  {
   "cell_type": "code",
   "execution_count": 21,
   "metadata": {},
   "outputs": [
    {
     "name": "stdout",
     "output_type": "stream",
     "text": [
      "[[ 2020     1     1     6  8096]\n",
      " [ 2020     1     2     7  7772]\n",
      " [ 2020     1     3     1 10142]\n",
      " ..., \n",
      " [ 2003    12    29     1 12823]\n",
      " [ 2003    12    30     2 14438]\n",
      " [ 2003    12    31     3 12374]]\n"
     ]
    }
   ],
   "source": [
    "year_is_1994 = births[:,0] == 1994\n",
    "births[:,0][year_is_1994] = 2020\n",
    "print(births)"
   ]
  },
  {
   "cell_type": "markdown",
   "metadata": {},
   "source": [
    "## Πράξεις σε ndarray"
   ]
  },
  {
   "cell_type": "code",
   "execution_count": 22,
   "metadata": {},
   "outputs": [],
   "source": [
    "vector = np.array([5, 10, 15, 20])"
   ]
  },
  {
   "cell_type": "code",
   "execution_count": 23,
   "metadata": {},
   "outputs": [
    {
     "data": {
      "text/plain": [
       "array([15, 30, 45, 60])"
      ]
     },
     "execution_count": 23,
     "metadata": {},
     "output_type": "execute_result"
    }
   ],
   "source": [
    "vector*3"
   ]
  },
  {
   "cell_type": "markdown",
   "metadata": {},
   "source": [
    "Παρατηρούμε ότι το αρχικό μας διάνυσμα δεν άλλαξε. Οπότε αν θέλουμε να το αντικαταστήσουμε, θα πρέπει να το θέσουμε ξανά"
   ]
  },
  {
   "cell_type": "code",
   "execution_count": 24,
   "metadata": {},
   "outputs": [
    {
     "data": {
      "text/plain": [
       "array([ 5, 10, 15, 20])"
      ]
     },
     "execution_count": 24,
     "metadata": {},
     "output_type": "execute_result"
    }
   ],
   "source": [
    "vector"
   ]
  },
  {
   "cell_type": "code",
   "execution_count": 25,
   "metadata": {},
   "outputs": [
    {
     "data": {
      "text/plain": [
       "array([15, 30, 45, 60])"
      ]
     },
     "execution_count": 25,
     "metadata": {},
     "output_type": "execute_result"
    }
   ],
   "source": [
    "vector = vector*3\n",
    "vector"
   ]
  },
  {
   "cell_type": "code",
   "execution_count": 26,
   "metadata": {},
   "outputs": [],
   "source": [
    "matrix = np.array([[5, 10, 15], [20, 25, 30], [35, 40, 45]])"
   ]
  },
  {
   "cell_type": "code",
   "execution_count": 27,
   "metadata": {},
   "outputs": [],
   "source": [
    "matrix[:,0] = matrix[:,0]*2"
   ]
  },
  {
   "cell_type": "code",
   "execution_count": 28,
   "metadata": {},
   "outputs": [
    {
     "data": {
      "text/plain": [
       "array([[10, 10, 15],\n",
       "       [40, 25, 30],\n",
       "       [70, 40, 45]])"
      ]
     },
     "execution_count": 28,
     "metadata": {},
     "output_type": "execute_result"
    }
   ],
   "source": [
    "matrix"
   ]
  },
  {
   "cell_type": "code",
   "execution_count": 29,
   "metadata": {},
   "outputs": [
    {
     "data": {
      "text/plain": [
       "150"
      ]
     },
     "execution_count": 29,
     "metadata": {},
     "output_type": "execute_result"
    }
   ],
   "source": [
    "vector.sum()"
   ]
  },
  {
   "cell_type": "markdown",
   "metadata": {},
   "source": [
    "Βάζοντας την παράμετρο axis στο sum, μπορούμε να πάρουμε για 1 το άθροισμα των γραμμών και για 0 το άθροισμα των στηλών"
   ]
  },
  {
   "cell_type": "code",
   "execution_count": null,
   "metadata": {},
   "outputs": [],
   "source": [
    "matrix = np.array([[5, 10, 15], [20, 25, 30],[35, 40, 45]])\n",
    "matrix.sum(axis=1)"
   ]
  },
  {
   "cell_type": "code",
   "execution_count": null,
   "metadata": {},
   "outputs": [],
   "source": [
    "vector.mean()"
   ]
  },
  {
   "cell_type": "code",
   "execution_count": null,
   "metadata": {},
   "outputs": [],
   "source": [
    "matrix.mean(axis=1)"
   ]
  },
  {
   "cell_type": "markdown",
   "metadata": {},
   "source": [
    "### Άσκηση\n",
    "\n",
    "Να βρεθεί το σύνολο των γεννήσεων τη χρονιά 1996 και μήνα Νοέμβριο"
   ]
  },
  {
   "cell_type": "code",
   "execution_count": null,
   "metadata": {},
   "outputs": [],
   "source": []
  },
  {
   "cell_type": "code",
   "execution_count": null,
   "metadata": {},
   "outputs": [],
   "source": []
  }
 ],
 "metadata": {
  "kernelspec": {
   "display_name": "Python 3",
   "language": "python",
   "name": "python3"
  },
  "language_info": {
   "codemirror_mode": {
    "name": "ipython",
    "version": 3
   },
   "file_extension": ".py",
   "mimetype": "text/x-python",
   "name": "python",
   "nbconvert_exporter": "python",
   "pygments_lexer": "ipython3",
   "version": "3.7.1"
  }
 },
 "nbformat": 4,
 "nbformat_minor": 2
}
